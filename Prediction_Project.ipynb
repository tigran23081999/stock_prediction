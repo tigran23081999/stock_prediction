{
 "cells": [
  {
   "cell_type": "markdown",
   "metadata": {},
   "source": [
    "# Прогнозирование курса валют и стоимости акций с помощью случайных процессов"
   ]
  },
  {
   "cell_type": "markdown",
   "metadata": {},
   "source": [
    "В наши дни все больше людей вкладывают свои средства в инвестции, в связи с этим возникает проблема: Как найти интересные инструмены для инвестирования и как предсказать как они будут вести себя в будущем? Чтобы ответить на этот вопрос, обратимся к моделям из курса по случайным процессам. Для начала поймем, каким процессом описываетя курс акций, валют. Если значения переменной непредсказуемо меняются во времени, то говорят что она подчиняется $\\textbf{стохастическому процессу (stohastic process)}$.\n",
    "\n",
    "Попробуем найти формулу, с помощью которой можно предсказать стоимость акции. Для этого введём несколько определений.\n",
    "\n",
    "$\\textbf{Стохастический процесс} -$ это процесс, в котором одной из случайных величин является время.\n",
    "Различают стохастические процессы с $\\textbf{дискретным}$ и $\\textbf{непрерывным}$ временем. Первые имеют место в случае, когда значения переменной изменяются только в фиксированные моменты времени. В процессе с непрерывным временем это может происходить в любой момент.\n",
    " \n",
    "Также существует деление самих стохастических процессов на дискретные и непрерывные. В случае дискретного стохастического процесса переменная принимает значения из конечного (счетного) набора. В непрерывном случае – из некоторого диапазона.\n",
    " \n",
    "Рассмотрим непрерывный стохастический процесс с непрерывным временем, описывающий изменение цены акции.\n",
    "\n",
    "$\\textbf{Марковский процесс -}$ это стохастический процесс, в котором будущее значение переменной зависит только от ее предшествующего значения и не зависит от всех остальных предшествующих значений.\n",
    "\n",
    "В данном случае мы будем стартовать из произвольной точки (необязтаельно из 0), это не меняет сути процесса и мы можем этим воспользоваться, поэтому случайная величина $Z$ подчиняется винеровскому процессу, если: Случайная величина $Z$ подчиняется Марковскому процессу и $\\Delta Z = \\varepsilon \\cdot \\sqrt{t}$,\n",
    "$\\Delta Z $ $\\mapsto$ $0$ и $\\varepsilon$ $\\sim$ $N(0,1)$.\n",
    "\n",
    "В силу определения марковского процесса величины $\\Delta Z$ являются независимыми, следовательно, при $\\Delta t$ $\\mapsto$ $0$ имеем: $\\Delta Z$ $\\mapsto$ к винеровскому процессу $dZ$.\n",
    "\n",
    "$\\textbf{Обобщённый винеровский процесс}$ задаётся уравнением: $dX = a\\cdot dt + b\\cdot dZ $ $\\text{ }  $, где $a,b$ константы.\n",
    "\n",
    "Если $b=0$, то уравнение примет вид $dX=a \\cdot dt$, откуда $X=X(0)+ a \\cdot t$.\n",
    "\n",
    "$b \\cdot dZ$ будем рассматривать как шум ,в $b$ раз превосходящий значение винеровского процесса $dZ$.\n",
    "Из свойста винеровского процесса получаем, что $\\Delta Z$ $= a \\cdot dt + b\\cdot $$\\varepsilon$$ \\cdot \\sqrt{t}$.\n",
    "![Обобщённый винеровский процесс](obob_w.png \"Обобщённый винеровский процесс\")\n",
    "\n",
    "$\\textbf{Стохастический процесс Ито}$ - это обобщённый винеровский процесс, в котором параметры $a$ и $b$ являются функциями случайной величины  $x$ и времени $t$.\n",
    "\n",
    "$dx = a(x,t)\\cdot dt + b(x,t)\\cdot dz$ $\\text{  }$ \n",
    "\n",
    "Введем обозначения. $S$ - цена акции в момент времени. $t$,  $\\mu$ - ожидаемый уровень доходности\n",
    "Если волатильность акции равна $0$, то $\\Delta S = \\mu\\cdot S\\cdot dt$. При $\\Delta t \\mapsto 0$, получим $dS = \\mu \\cdot S\\cdot dt$.\n",
    "\n",
    "Но в жизни волтильность почти всегда больше $0$. Поэтому предположим, что изменение доходности постоянно и не зависит от цены акции, тогда:\n",
    "$${{\\textbf{dS}}\\over{\\textbf{S}}} = \\mu\\cdot dt + \\sigma\\cdot dz$$\n",
    "\n",
    "Таким образом мы получили формулу Ито, которая широко используется для моделирования цены акции.\n",
    "\n",
    "Мы получили формулу, с помощью которой можем делать прогнозы, но давайте разберемся и поймем что представляют из себя главные коэффицента в этом уравнении.\n",
    "\n",
    "Начнем с коэффицента $\\sigma$, который отвечает за волатильность финансового актива. Что такое волатильность и почему она так важна для инвестиционного аналитика? В определенном смысле волатильность - это показатель темпа изменения рыночной цены. Рынки, цены на которых меняются медленно, называют низковолатильными, а рынки, цены на которых меняются быстро - высоковолатильными. Для примера можем рассмотреть акции компании Carnival, которая занимается круизами в США. На фоне пандемии акции этой компании упали на более чем $80$%\n",
    "<img src = \"carnival.png\">\n",
    "\n",
    "Можно сказать, что компания была на грани банкровства, ведь правительство США не поддержало финансово круизные компании из-за того, что они юридически оформлены в странах карибского водоёма. Но если мы посмотрим, то мы можем увидеть, что акции выросла с 8 до 16 долларов за короткий промежуток. Это произошло из-за того, что у компании появились крупные инвесторы из Саудовской Аравии. Согласитесь хорошая инвестиция, но с таким уже успехом этих инвесторов могло бы и не быть и тогда бы компания действительно была бы на грани банкровства. При принятии решения об инвестировании в эту компании мы непременно смотрим на ее предысторию и в данном случае мы видим, что такая инвестиция имеет высокий риск. Таким образом мы пришли к определению волатильности. Волатильность - это мера риска. Если волатильность акции высокая, то и прибыльность такой инвестиции будет выше, но вероятность получения прибыли будет ниже чем если бы мы вложились в высоконадежные государственные облигации, получим гарантированный купонный доход.\n",
    "\n",
    "Количественное определение волатильности строится на случайном блуждании и нормальном распределении. Возьмем для примера игру в пинг-понг. Шарик катится вниз через частокол штырьков.\n",
    "<img src = \"v1.png\">\n",
    "Наткнувншись на штырек, он отклоняется вправо или влево равновероятно. После этого шарик попадает на новый уровень, где натыкается на другой штырек. Наконец, внизу он попадает в одну из лунок. Движение шарика через частокол штырьков называют $\\textbf{случайным блужданием}$. Как только шарик попадает в этот частокол, никто не может повлиять на его траекторию, равно как и предсказать эту траекторию.\n",
    "\n",
    "Если бросить достаточное число количество шариков, то распределение будет описываться колокообразной кривой, как на рисунке\n",
    "<img src = \"v2.png\">\n",
    "Большинство шариков попадает в центр; чем дальше расположены лунки от центра, тем меньше шариков в них оказывается. Такое распределение называют  $\\textbf{нормальным}$ или $\\textbf{колокообразным}$\n",
    "\n",
    "Давайте слегка изменим условия игры, поставив вертикальные перегородки таким образом, что теперь, наткнувшись на штырек и отклонившись влево или вправо, шарик опустится до соприкосновения со следующим штырьком не на один, а на два уровня. Если бросить достаточное количество шариков, то получится распределение, представленное на рисунке ниже\n",
    "<img src = \"v3.png\">\n",
    "Так как боковые движения шариков ограничены, пик этой кривой будет выше, а ее края будут более узкими, чем у прошлой колообразной кривой.\n",
    "\n",
    "Наконец, мы можем поставить горизонтальные перегородки так, что, попадая на следующий уровень, шарик будет каждый раз отклоняться на два штырька влево или вправо. И снова, если бросить достаточное количество шариков, то получится распределение, представленное на рисунке ниже:\n",
    "<img src = \"v4.png\">\n",
    "У этой кривой, которая отражает нормальное распределение, пик намного ниже и хвосты убывают намного медленее, чем на прошлых кривых. Пусть боковые движения шарика символизируют повышательные и понижательные изменения цены актива, а движение вниз - течение времени. Если предположить, что цена актива повышается или понижается каждый день на доллар, то распределение будет как на рис.3. А если предположить, что цена за день растет и падает на 2 доллара, то распределение будет как на рис.4.\n",
    "\n",
    "Если исходить из того, что изменения цен актива носят случайны характер, и ничего не говорить о веротяном направлении изменения, то можно утверждать, что кривые отражают распределения значений цен соотвественно на умеренном, низковолатильным и высоковолатильном рынке. На низковолатильном рынке цены колеблются в узком диапазоне, а следовательно, изменения цены актива невыскои. На высоковолатильном рынке веротяность резкого изменения цен намного больше и цена может сильно меняться.\n",
    "\n",
    "Определив понятие волатильности, введём формулу для её расчёта:\n",
    "\n",
    "$$\\sigma = \\sqrt{\\frac{365 \\cdot \\sum\\limits_{i=1}^n (x_i - m)^2  }{(n-1)\\cdot n}}$$\n",
    "\n",
    "где:\n",
    "\n",
    "$m$ - математическое ожидание\n",
    "\n",
    "$n$ - количество дней\n",
    "\n",
    "$x_i$ - стандартное отклонение логарифмических изменений цен\n",
    "\n",
    "Мы получили формулу для расчета волатильности. Попробуем получить формулу для расчета $\\mu$ - доходности актива.\n",
    "\n",
    "Будем использовать финансовую модель CAPM для расчёта доходности.\n",
    "\n",
    "Если все инвесторы на рынке имеют одина- ковые рыночные портфели, то каким образом выражается реакция инвесто- ров, обусловленная неприятием риска в совершаемых ими инвестициях? В модели оценки финансовых активов, когда инвесторы при распределении средств решают: сколько им следует вложить в безрисковый актив, а сколько в рыночный портфель, они опираются на свои предпочтения в обла- сти риска. Инвесторы, избегающие риска, могут принять решение вложить все свои сбережения в безрисковый актив. Инвесторы, желающие принять на себя больше риска, вложат значительную часть своих сбережений, или даже все, в рыночный портфель. Инвесторы, уже вложившие все свои сред- ства в рыночный портфель и, тем не менее, желающие принять на себя еще больше риска, могли бы добиться этого, заняв средства по безрисковой ставке и инвестировав их в тот же самый рыночный портфель, следуя примеру всех остальных. Данные предположения основываются на двух дополнительных допущениях. Во-первых, существует безрисковый актив, ожидаемый доход которого известен с абсолютной определенностью. Во-вторых, инвесторы могут ссужать и занимать средства по безрисковой ставке для достижения оптимальности размещения средств. В то время как ссуда по безрисковой ставке не доставляет особых проблем (индивиду для этого достаточно приобрести казначейские векселя или казначейские облигации), получение ссуд по безрисковой ставке может оказаться куда более затруднительным для отдельного лица. Существуют версии модели CAPM, позволяющие несколько смягчить эти допущения и, тем не менее, получить выводы, совместимые с моделью.\n",
    "\n",
    "Риск любого актива для инвестора — это риск, добавляемый данным активом к портфелю инвестора в целом. В мире САРМ, где все инвесторы владеют рыночным портфелем, риск отдельного актива для инвестора — это риск, который данный актив добавляет к рыночному портфелю. На интуитивном уровне понятно, что если движение актива происходит независимо от рыночного портфеля, то этот актив не добавит слишком уж много риска к рыночному портфелю. Другими словами, большая часть риска данного актива является специфическим риском фирмы, а потому может быть диверсифицирована. С другой стороны, если стоимость актива имеет тенденцию к росту одновременно с повышением стоимости портфеля, равно как и тенденцию к падению при снижении стоимости рыночного портфеля, то актив увеличивает риск портфеля. Такой актив обладает в большей степени рыночным риском и в меньшей — специфическим риском фирмы. Статистически, добавленный риск измеряется ковариацией актива с рыночным портфелем.\n",
    "\n",
    "Ковариация измеряется в процентах, поэтому трудно вынести решение по поводу относительного риска инвестиции, основываясь на ее значении.По этой причине мы стандартизируем меру риска путем деления ковариации каждого актива с рыночным портфелем на дисперсию рыночного портфеля. Это позволяет получить показатель риска, который называется коэффициентом бета (beta) данного актива:\n",
    "\n",
    "$$\\beta_i = \\frac{\\text{Ковариация актива i с рыночным портфелем}}{\\text{Дисперсия рыночного портфеля}}$$\n",
    "\n",
    "Поскольку ковариация рыночного портфеля с самим собой является его дисперсией, бета рыночного портфеля (как и его среднего актива) равна 1. Активы, чья рискованность выше среднего уровня (если использовать эту меру риска), будут иметь коэффициент бета выше единицы, а активы, которые безопаснее среднего уровня, будут обладать бетой менее единицы. У безрисковых активов коэффициент бета равен нулю.\n",
    "\n",
    "Факт удержания каждым инвестором некоторой комбинации безрискового актива и рыночного портфеля приводит к заключению, что ожидаемый доход на актив линейно зависит от беты актива. В частности, ожидаемый доход на актив можно записать как функ- цию безрисковой ставки и беты этого актива\n",
    "\n",
    "$$\\mu = R - \\sigma \\cdot(m - R) $$ где:\n",
    "\n",
    "$\\mu$ - доходность\n",
    "\n",
    "$R$ - безрисковая ставка (как правило за безрисовкую ставку берут ставку государственных облигаций)\n",
    "\n",
    "$\\sigma$ - волатильность актива\n",
    "\n",
    "$m$ - средняя доходность индекса\n",
    "\n",
    "Таким образом мы определили формулу для расчета доходности. Теперь мы можем проверить наши предположения на расчёте будущей цены акции. В качестве примера, расчитаем прогнозую цены для российской энергетической компании Интер РАО ЕЭС с тикером на бирже $\\textbf{IRAO.ME}$. \n",
    "За безрисковую ставку возьмем государственные бумаги, средняя доходность по ним составляет $\\textbf{7%}$\n",
    "\n",
    "Для расчета доходности выгрузим данные, нам интересны цены акции за промежуток времени и стоимость главного индекса в стране, в которой акции компании торгуются"
   ]
  },
  {
   "cell_type": "code",
   "execution_count": 101,
   "metadata": {},
   "outputs": [],
   "source": [
    "import numpy as np \n",
    "import yfinance as yf\n",
    "import datetime as dt\n",
    "import pandas_datareader.data as web\n",
    "import pandas as pd"
   ]
  },
  {
   "cell_type": "code",
   "execution_count": 478,
   "metadata": {},
   "outputs": [
    {
     "name": "stdout",
     "output_type": "stream",
     "text": [
      "Введите год начала выгрузки\n",
      "2010\n",
      "Введите месяц начала выгрузки\n",
      "1\n",
      "Введите день начала выгрузки\n",
      "1\n",
      "Введите год конца выгрузки\n",
      "2020\n",
      "Введите месяц конца выгрузки\n",
      "5\n",
      "Введите день конца выгрузки\n",
      "1\n",
      "Введите тикер компании\n",
      "IRAO.ME\n",
      "Введите тикер индекса\n",
      "IMOEX.ME\n"
     ]
    }
   ],
   "source": [
    "import numpy as np \n",
    "import yfinance as yf\n",
    "import datetime as dt\n",
    "import pandas_datareader.data as web\n",
    "\n",
    "print('Введите год начала выгрузки')\n",
    "start_year =  int(input())\n",
    "print('Введите месяц начала выгрузки')\n",
    "start_month = int(input())\n",
    "print('Введите день начала выгрузки')\n",
    "start_day = int(input())\n",
    "print('Введите год конца выгрузки')\n",
    "end_year = int(input())\n",
    "print('Введите месяц конца выгрузки')\n",
    "end_month = int(input())\n",
    "print('Введите день конца выгрузки')\n",
    "end_day = int(input())\n",
    "print('Введите тикер компании')\n",
    "ticker = str(input())\n",
    "print('Введите тикер индекса')\n",
    "indexx = str(input())\n",
    "\n",
    "start = dt.datetime(start_year,start_month,start_day)\n",
    "end = dt.datetime(end_year,end_month,end_day)\n",
    "\n",
    "df = web.DataReader(ticker,'yahoo', start, end)\n",
    "di = web.DataReader(indexx,'yahoo', start, end)"
   ]
  },
  {
   "cell_type": "markdown",
   "metadata": {},
   "source": [
    "#### Выгрузив данные, попробуем рассчиать коэффицент волатильности $\\beta$ для нашей компании:"
   ]
  },
  {
   "cell_type": "code",
   "execution_count": 509,
   "metadata": {},
   "outputs": [
    {
     "name": "stdout",
     "output_type": "stream",
     "text": [
      "Return Stock    0.376767\n",
      "dtype: float64\n",
      "             Stock        Index  Return Stock  Return Index\n",
      "Date                                                       \n",
      "2020-04-24  4.9140  2562.030029     -0.016905     -0.014380\n",
      "2020-04-27  5.0000  2570.909912      0.017501      0.003466\n",
      "2020-04-28  5.1775  2612.239990      0.035500      0.016076\n",
      "2020-04-29  5.2340  2663.139893      0.010913      0.019485\n",
      "2020-04-30  5.0000  2650.560059     -0.044708     -0.004724\n"
     ]
    }
   ],
   "source": [
    "o=[]\n",
    "x=pd.DataFrame(o)\n",
    "x[['Stock']] = df[['Adj Close']]\n",
    "x[['Index']] = di[['Adj Close']]\n",
    "x[['Return Stock']] = x[['Stock']].pct_change()\n",
    "x[['Return Index']] = x[['Index']].pct_change()\n",
    "s_std = np.std(x[['Return Stock']])\n",
    "sigma = s_std * 252 **0.5\n",
    "print(sigma)\n",
    "print(x.tail())"
   ]
  },
  {
   "cell_type": "markdown",
   "metadata": {},
   "source": [
    "#### Получили коэффицент волатильности $\\beta$. Вычислим ожидаемую доходность акции для модели CAPM:"
   ]
  },
  {
   "cell_type": "code",
   "execution_count": 510,
   "metadata": {},
   "outputs": [
    {
     "name": "stdout",
     "output_type": "stream",
     "text": [
      "Return Stock    0.000559\n",
      "dtype: float64\n"
     ]
    }
   ],
   "source": [
    "T = len(x.Stock)\n",
    "y = (x[0:T-1])\n",
    "#print(y.tail())\n",
    "d = y[['Return Stock']].sum()/(T-1)\n",
    "print(d)"
   ]
  },
  {
   "cell_type": "markdown",
   "metadata": {},
   "source": [
    "#### Мы нашли необходимые велчины и можем расчитать доходность по модели CAPM:"
   ]
  },
  {
   "cell_type": "code",
   "execution_count": 511,
   "metadata": {},
   "outputs": [
    {
     "name": "stdout",
     "output_type": "stream",
     "text": [
      "Return Stock    4.362843\n",
      "dtype: float64\n"
     ]
    }
   ],
   "source": [
    "CAPM = 7 + sigma*(d-7)\n",
    "print(CAPM)"
   ]
  },
  {
   "cell_type": "markdown",
   "metadata": {},
   "source": [
    "Теперь у нас есть все, для того, чтобы произвести моделирование цены акции методом Монте-Карло.\n",
    " \n",
    "\n",
    "Моделирование стохастического процесса с помощью метода Монте-Карло - это процедура выбора случайных значений процесса. Ранее мы получили, что ожидаемая доходность составляет 4.36%, а волатильность - 37.6%. Следовательно, в формуле ${{\\textbf{dS}}\\over{\\textbf{S}}} = \\mu*\\Delta t + \\sigma*\\Delta z$, $\\mu = 0.0362$, $\\sigma = 0.376$. Промежуток времени на прогноз берем на 1 день, следовательно $\\Delta t = \\frac{1}{365} = 0.00274$\n",
    "\n",
    "Получаем формулу: $$\\Delta S = 0.0436*S + 0.376*S*\\sqrt{0.0274}*\\varepsilon $$"
   ]
  },
  {
   "cell_type": "markdown",
   "metadata": {},
   "source": [
    "Напишем программу, которая будем моделировать различные сценарии акции в будущем"
   ]
  },
  {
   "cell_type": "code",
   "execution_count": 512,
   "metadata": {},
   "outputs": [
    {
     "name": "stdout",
     "output_type": "stream",
     "text": [
      "Введите количество симуляций\n",
      "1000\n",
      "Введите количество прогнозируемых дней\n",
      "7\n",
      "5.004129340799622\n"
     ]
    },
    {
     "data": {
      "image/png": "[encoded data removed]",
      "text/plain": [
       "<Figure size 432x288 with 1 Axes>"
      ]
     },
     "metadata": {},
     "output_type": "display_data"
    }
   ],
   "source": [
    "# Импортируем нужные нам библиотеки\n",
    "import pandas_datareader.data as web\n",
    "import pandas as pd\n",
    "import datetime as dt\n",
    "import numpy as np\n",
    "import matplotlib.pyplot as plt\n",
    "from matplotlib import style\n",
    "style.use('ggplot')\n",
    "\n",
    "# Задаем дни начала и конца выгрузки данных\n",
    "#start = dt.datetime(2017, 1, 3)\n",
    "#end = dt.datetime(2020, 7, 1)\n",
    "\n",
    "# Получаем данные\n",
    "prices = web.DataReader(ticker, 'yahoo', start, end)['Close']\n",
    "\n",
    "# Вычислим доходности\n",
    "returns = prices.pct_change()\n",
    "#print(returns)\n",
    "last_price = prices[-1]\n",
    "\n",
    "# Введем количество траекторий и на сколько дней прогнозируем\n",
    "print('Введите количество симуляций')\n",
    "num_simulations = int(input())\n",
    "print('Введите количество прогнозируемых дней')\n",
    "num_days = int(input())\n",
    "\n",
    "simulation_df = pd.DataFrame()\n",
    "#print(simulation_df)\n",
    "\n",
    "for x in range(num_simulations):\n",
    "    count = 0\n",
    "    daily_vol = returns.std()\n",
    "    \n",
    "    price_series = []\n",
    "    \n",
    "    price = last_price * (1 + np.random.normal(0,daily_vol)*sigma*((0.0274)**0.5)) + (np.random.normal(0,1))*CAPM/100*((0.0274)**0.5)\n",
    "    price_series.append(price)\n",
    "    #print(price_series)\n",
    "\n",
    "    \n",
    "    for y in range(num_days):\n",
    "        if count == 251:\n",
    "            break\n",
    "        price = price_series[count] * (1 + np.random.normal(0,daily_vol)*sigma*((0.0274)**0.5) + (np.random.normal(0,1)*CAPM/100)*((0.0274)**0.5)) #*0.325*((0.0274)**0.5) + (CAPM/100)*((0.0274)**0.5))\n",
    "        price_series.append(price)\n",
    "        count += 1\n",
    "    \n",
    "    simulation_df[x] = price_series\n",
    "print(simulation_df.iloc[-1].mean())\n",
    "    \n",
    "# Изобразим все траектории на диаграме\n",
    "fig = plt.figure()\n",
    "fig.suptitle('Stohastic Simulation:')\n",
    "plt.plot(simulation_df)\n",
    "plt.axhline(y = last_price, color = 'r', linestyle = '-')\n",
    "plt.xlabel('Day')\n",
    "plt.ylabel('Price')\n",
    "plt.show()"
   ]
  },
  {
   "cell_type": "markdown",
   "metadata": {},
   "source": [
    " Таким образом получили модель предсказания курса акций"
   ]
  },
  {
   "cell_type": "markdown",
   "metadata": {},
   "source": [
    "### Прогноз курса акций на основе машинного обучения"
   ]
  },
  {
   "cell_type": "markdown",
   "metadata": {},
   "source": [
    "Напишем программу, которая прогнозирует курс акций на основе метода линейной регрессии"
   ]
  },
  {
   "cell_type": "markdown",
   "metadata": {},
   "source": [
    "Разделим задачу прогнозирования на основе ML на 2 части: на прогноз акции и прогноз доллара. Для доллара признаком будет цены на нефть, но так как в библиотеке yahoo finance нет единого индекса, который бы отражал цену на нефть на долгий период, будем брать фонд нефти Brent, который ведёт себя также как цена за баррель нефти. Во-первых надо определить, имеет ли вообще задача смысл. Почему нефть и рубль должны или могут быть взаимосвязаны? В предположении модель такая: экспортёры продают нефть за доллары, а затем продают доллары, чтобы получить рубли для расчётов внутри страны. Механизм крайне упрощён, надо учитывать объёмы добычи-продажи, что экспортируют не только нефть, не всегда экспортёры продают доллары, на курс валют влияет ЦБ интервенциями и т.д. И тем не менее, будем считать, что модель более-менее рабочая, то есть, что существуют фундаментальные причины для взаимосвязи цены нефти и курса рубля. Выгрузим данные. Посмотрим на графике как между собой ведут себя курс доллара и цена за барель нефти. Здесь мы сталкиваемся с проблемой в модели, что данные выгрузки по нефти временнами теряется, в модели регрессии мы NaN данные сперва обнуляем, затем даем им усредненное значение. Конечно одного признака мало для того, чтобы спрогнозировать курс доллара по нефти, но как позывает практика наша валюта сильно коррелирована с изменением курса нефти и основной доход, который получает государство исходит из экспорта нефти заграницу. Экспорт и импорт прочих же товаров происходит в обе стороны и по обоим валютам, поэтому этот признак будет несущественен. Также признак туристов тоже почти не влияет. Ведь туризм как правило работает в обе стороны. Поэтому исходя из данных наших предположений, мы решили построить модель, которая зависит только от цен на нефть.\n",
    "\n",
    "Модель предсказания работает на основе метода линейной регрессии"
   ]
  },
  {
   "cell_type": "code",
   "execution_count": 513,
   "metadata": {},
   "outputs": [
    {
     "ename": "TypeError",
     "evalue": "'module' object is not callable",
     "output_type": "error",
     "traceback": [
      "\u001b[0;31m---------------------------------------------------------------------------\u001b[0m",
      "\u001b[0;31mTypeError\u001b[0m                                 Traceback (most recent call last)",
      "\u001b[0;32m<ipython-input-513-ae2bef1cd560>\u001b[0m in \u001b[0;36m<module>\u001b[0;34m\u001b[0m\n\u001b[1;32m      3\u001b[0m \u001b[0mstyle\u001b[0m\u001b[0;34m.\u001b[0m\u001b[0muse\u001b[0m\u001b[0;34m(\u001b[0m\u001b[0;34m'ggplot'\u001b[0m\u001b[0;34m)\u001b[0m\u001b[0;34m\u001b[0m\u001b[0;34m\u001b[0m\u001b[0m\n\u001b[1;32m      4\u001b[0m \u001b[0mget_ipython\u001b[0m\u001b[0;34m(\u001b[0m\u001b[0;34m)\u001b[0m\u001b[0;34m.\u001b[0m\u001b[0mrun_line_magic\u001b[0m\u001b[0;34m(\u001b[0m\u001b[0;34m'matplotlib'\u001b[0m\u001b[0;34m,\u001b[0m \u001b[0;34m'inline'\u001b[0m\u001b[0;34m)\u001b[0m\u001b[0;34m\u001b[0m\u001b[0;34m\u001b[0m\u001b[0m\n\u001b[0;32m----> 5\u001b[0;31m \u001b[0mplt\u001b[0m\u001b[0;34m.\u001b[0m\u001b[0mfigure\u001b[0m\u001b[0;34m(\u001b[0m\u001b[0mfigsize\u001b[0m\u001b[0;34m=\u001b[0m\u001b[0;34m(\u001b[0m\u001b[0;36m15\u001b[0m\u001b[0;34m,\u001b[0m \u001b[0;36m10\u001b[0m\u001b[0;34m)\u001b[0m\u001b[0;34m)\u001b[0m\u001b[0;34m\u001b[0m\u001b[0;34m\u001b[0m\u001b[0m\n\u001b[0m\u001b[1;32m      6\u001b[0m \u001b[0;34m\u001b[0m\u001b[0m\n\u001b[1;32m      7\u001b[0m \u001b[0mplt\u001b[0m\u001b[0;34m.\u001b[0m\u001b[0mplot\u001b[0m\u001b[0;34m(\u001b[0m\u001b[0mX\u001b[0m\u001b[0;34m,\u001b[0m \u001b[0mlabel\u001b[0m \u001b[0;34m=\u001b[0m \u001b[0;34m\"Нефть\"\u001b[0m\u001b[0;34m)\u001b[0m\u001b[0;34m\u001b[0m\u001b[0;34m\u001b[0m\u001b[0m\n",
      "\u001b[0;31mTypeError\u001b[0m: 'module' object is not callable"
     ]
    }
   ],
   "source": [
    "import matplotlib as plt\n",
    "from matplotlib import style\n",
    "style.use('ggplot')\n",
    "%matplotlib inline\n",
    "plt.figure(figsize=(15, 10))\n",
    "\n",
    "plt.plot(X, label = \"Нефть\")\n",
    "plt.plot(y,label = \"Доллар\")\n",
    "plt.title(\"График зависимости курс доллара от нефти\")\n",
    "plt.legend()\n",
    "plt.show()"
   ]
  },
  {
   "cell_type": "markdown",
   "metadata": {},
   "source": [
    "### Прогноз акций на основе ML "
   ]
  },
  {
   "cell_type": "code",
   "execution_count": 514,
   "metadata": {},
   "outputs": [],
   "source": [
    "import quandl\n",
    "import numpy as np \n",
    "from sklearn.linear_model import LinearRegression\n",
    "from sklearn.model_selection import train_test_split\n",
    "import yfinance as yf\n",
    "import datetime as dt\n",
    "import pandas_datareader.data as web"
   ]
  },
  {
   "cell_type": "code",
   "execution_count": 515,
   "metadata": {},
   "outputs": [
    {
     "name": "stdout",
     "output_type": "stream",
     "text": [
      "              High     Low   Open   Close       Volume  Adj Close\n",
      "Date                                                             \n",
      "2020-04-24  4.9930  4.8585  4.985  4.9140  188534000.0     4.9140\n",
      "2020-04-27  5.0470  4.9180  4.930  5.0000  133448001.0     5.0000\n",
      "2020-04-28  5.2430  4.9800  5.000  5.1775  301816000.0     5.1775\n",
      "2020-04-29  5.2545  5.1175  5.180  5.2340  149979000.0     5.2340\n",
      "2020-04-30  5.3000  4.9500  5.300  5.0000  543568000.0     5.0000\n"
     ]
    }
   ],
   "source": [
    "df = web.DataReader(ticker,'yahoo', start, end)\n",
    "print(df.tail())"
   ]
  },
  {
   "cell_type": "code",
   "execution_count": 516,
   "metadata": {},
   "outputs": [
    {
     "name": "stdout",
     "output_type": "stream",
     "text": [
      "            Adj Close\n",
      "Date                 \n",
      "2020-04-24     4.9140\n",
      "2020-04-27     5.0000\n",
      "2020-04-28     5.1775\n",
      "2020-04-29     5.2340\n",
      "2020-04-30     5.0000\n"
     ]
    }
   ],
   "source": [
    "# Из всех данных возьмем только цену закрытия\n",
    "df.drop('High',axis=1,inplace=True)\n",
    "df.drop('Close',axis=1,inplace=True)\n",
    "df.drop('Low',axis=1,inplace=True)\n",
    "df.drop('Open',axis=1,inplace=True)\n",
    "df.drop('Volume',axis=1,inplace=True)\n",
    "print(df.tail())"
   ]
  },
  {
   "cell_type": "code",
   "execution_count": 517,
   "metadata": {},
   "outputs": [
    {
     "name": "stdout",
     "output_type": "stream",
     "text": [
      "            Adj Close  Prediction\n",
      "Date                             \n",
      "2020-04-24     4.9140         NaN\n",
      "2020-04-27     5.0000         NaN\n",
      "2020-04-28     5.1775         NaN\n",
      "2020-04-29     5.2340         NaN\n",
      "2020-04-30     5.0000         NaN\n"
     ]
    }
   ],
   "source": [
    "# Введём переменную, которая описывает на сколько дней мы делаем прогноз\n",
    "forecast_out = 7 #'n=30' days\n",
    "#Создадим еще 1 столбец для расчетов\n",
    "df['Prediction'] = df[['Adj Close']].shift(-forecast_out)\n",
    "#print the new data set\n",
    "print(df.tail())"
   ]
  },
  {
   "cell_type": "code",
   "execution_count": 518,
   "metadata": {},
   "outputs": [],
   "source": [
    "## Создадим датасэт (X)  #######\n",
    "# Конвертируем датафрейм в массив numpy\n",
    "X = np.array(df.drop(['Prediction'],1))\n",
    "\n",
    "# уберем последние n строк\n",
    "X = X[:-forecast_out]\n",
    "#print(X)"
   ]
  },
  {
   "cell_type": "code",
   "execution_count": 519,
   "metadata": {
    "scrolled": true
   },
   "outputs": [],
   "source": [
    "### Создадим датасэт (y)  #####\n",
    "# Конвертируем датафрейм в массив numpy\n",
    "y = np.array(df['Prediction'])\n",
    "y = y[:-forecast_out]\n",
    "#print(y)"
   ]
  },
  {
   "cell_type": "code",
   "execution_count": 520,
   "metadata": {},
   "outputs": [],
   "source": [
    "# разделим информацию по пропорциям 80% тренировочное and 20% тестировочное\n",
    "x_train, x_test, y_train, y_test = train_test_split(X, y, test_size=0.48)"
   ]
  },
  {
   "cell_type": "code",
   "execution_count": 521,
   "metadata": {},
   "outputs": [
    {
     "data": {
      "text/plain": [
       "LinearRegression(copy_X=True, fit_intercept=True, n_jobs=None, normalize=False)"
      ]
     },
     "execution_count": 521,
     "metadata": {},
     "output_type": "execute_result"
    }
   ],
   "source": [
    "# создадим и обучим модель линейной регресии ( Linear Regression  Model )\n",
    "lr = LinearRegression()\n",
    "# Обучим модель\n",
    "lr.fit(x_train, y_train)"
   ]
  },
  {
   "cell_type": "code",
   "execution_count": 522,
   "metadata": {},
   "outputs": [],
   "source": [
    "# Тестируем модель: возвращается коэффицент R^2 предсказания. \n",
    "# лучшее его значение 1.0\n",
    "lr_confidence = lr.score(x_test, y_test)\n",
    "#print(\"lr confidence: \", lr_confidence)"
   ]
  },
  {
   "cell_type": "code",
   "execution_count": 523,
   "metadata": {},
   "outputs": [],
   "source": [
    "x_forecast = np.array(df.drop(['Prediction'],1))[-forecast_out:]\n",
    "#print(x_forecast)"
   ]
  },
  {
   "cell_type": "code",
   "execution_count": 524,
   "metadata": {},
   "outputs": [
    {
     "name": "stdout",
     "output_type": "stream",
     "text": [
      "5.018981065831147\n"
     ]
    }
   ],
   "source": [
    "# получаем прогноз на n дней вперед\n",
    "lr_prediction = lr.predict(x_forecast)\n",
    "print(lr_prediction[-1])\n"
   ]
  },
  {
   "cell_type": "markdown",
   "metadata": {},
   "source": [
    "### Таким образом получили прогнозную цену акции на основе машинного обучения"
   ]
  },
  {
   "cell_type": "markdown",
   "metadata": {},
   "source": [
    "Видим, что результат на основе случайных процессов оказалася $4.99$, а на основе машинного обучения $5.002$. Результаты можно сказать почти совпали, но модель случаных процессов дала в итоге более точный проогноз. Мы выгружали данные до 1 мая текущего года и делали прогноз на $8$ мая. За эту неделю акции Интер РАО упали на фоне новости о переносе заседания, на котором они будут определять стратегию развитися на годы вперед. Это прогноз на аномальном кризисном рынке. На деле же акции Интер РАО торугются в районе $4.88-4.93$. Как видим на аномальных рынках наши прогнозы менее точные, погрешность составляет порядка $2$%\n"
   ]
  },
  {
   "cell_type": "markdown",
   "metadata": {},
   "source": [
    "### Прогноз курса доллара на основе ML"
   ]
  },
  {
   "cell_type": "code",
   "execution_count": 545,
   "metadata": {},
   "outputs": [],
   "source": [
    "import numpy as np \n",
    "import yfinance as yf\n",
    "import datetime as dt\n",
    "import pandas_datareader.data as web\n",
    "\n",
    "# данные по нефти доступны с мая 2019\n",
    "\n",
    "#print('Введите год начала выгрузки')\n",
    "start_year =  2019#int(input())\n",
    "#print('Введите месяц начала выгрузки')\n",
    "start_month = 6#int(input())\n",
    "#print('Введите день начала выгрузки')\n",
    "start_day =1# int(input())\n",
    "#print('Введите год конца выгрузки')\n",
    "end_year = 2020#int(input())\n",
    "#print('Введите месяц конца выгрузки')\n",
    "end_month = 1#int(input())\n",
    "#print('Введите день конца выгрузки')\n",
    "end_day = 10#int(input())\n",
    "#print('Введите тикер компании')\n",
    "ticker = 'RUB=X'#str(input())\n",
    "#print('Введите тикер индекса')\n",
    "indexx = 'BNO'#str(input())\n",
    "\n",
    "start = dt.datetime(start_year,start_month,start_day)\n",
    "end = dt.datetime(end_year,end_month,end_day)\n",
    "\n",
    "usd = web.DataReader(ticker,'yahoo', start, end)\n",
    "oil = web.DataReader(indexx,'yahoo', start, end)"
   ]
  },
  {
   "cell_type": "code",
   "execution_count": 546,
   "metadata": {},
   "outputs": [
    {
     "name": "stdout",
     "output_type": "stream",
     "text": [
      "               Dollar        Oil\n",
      "Date                            \n",
      "2020-01-06  62.029999  21.680000\n",
      "2020-01-07  61.775002  21.650000\n",
      "2020-01-08  61.930901  21.010000\n",
      "2020-01-09  61.261902  20.760000\n",
      "2020-01-10  61.266102  20.610001\n"
     ]
    }
   ],
   "source": [
    "o=[]\n",
    "xx=pd.DataFrame(o)\n",
    "xx[['Dollar']] = usd[['Adj Close']]\n",
    "xx[['Oil']] = oil[['Adj Close']]\n",
    "xx.fillna(0, inplace = True)\n",
    "print(xx.tail())"
   ]
  },
  {
   "cell_type": "code",
   "execution_count": 547,
   "metadata": {},
   "outputs": [],
   "source": [
    "import matplotlib.pyplot as plt"
   ]
  },
  {
   "cell_type": "code",
   "execution_count": 548,
   "metadata": {},
   "outputs": [
    {
     "name": "stdout",
     "output_type": "stream",
     "text": [
      "               Dollar        Oil\n",
      "Date                            \n",
      "2020-01-06  62.029999  21.680000\n",
      "2020-01-07  61.775002  21.650000\n",
      "2020-01-08  61.930901  21.010000\n",
      "2020-01-09  61.261902  20.760000\n",
      "2020-01-10  61.266102  20.610001\n"
     ]
    }
   ],
   "source": [
    "# A variable for predicting 'n' days out into the future\n",
    "forecast_out = 5 #'n=30' days\n",
    "#Create another column (the target or dependent variable) shifted 'n' units up\n",
    "#print the new data set\n",
    "print(xx.tail())"
   ]
  },
  {
   "cell_type": "code",
   "execution_count": 549,
   "metadata": {},
   "outputs": [],
   "source": [
    "## Create the independent data set (X)  #######\n",
    "# Convert the dataframe to a numpy array\n",
    "X = np.array(xx[['Oil']].values)\n",
    "X[X==0]=17\n",
    "        \n",
    "#Remove the last 'n' rows\n",
    "X = X[:-forecast_out]\n",
    "#print(X)"
   ]
  },
  {
   "cell_type": "code",
   "execution_count": 550,
   "metadata": {},
   "outputs": [
    {
     "name": "stdout",
     "output_type": "stream",
     "text": [
      "155\n"
     ]
    }
   ],
   "source": [
    "print(X.size)"
   ]
  },
  {
   "cell_type": "code",
   "execution_count": 551,
   "metadata": {},
   "outputs": [],
   "source": [
    "### Create the dependent data set (y)  #####\n",
    "# Convert the dataframe to a numpy array (All of the values including the NaN's)\n",
    "y = np.array(xx[['Dollar']].values)\n",
    "# Get all of the y values except the last 'n' rows\n",
    "y = y[:-forecast_out]\n",
    "#print(y)"
   ]
  },
  {
   "cell_type": "code",
   "execution_count": 552,
   "metadata": {},
   "outputs": [],
   "source": [
    "# Split the data into 80% training and 20% testing\n",
    "x_train, x_test, y_train, y_test = train_test_split(X, y, test_size=0.2)"
   ]
  },
  {
   "cell_type": "code",
   "execution_count": 553,
   "metadata": {},
   "outputs": [
    {
     "data": {
      "text/plain": [
       "LinearRegression(copy_X=True, fit_intercept=True, n_jobs=None, normalize=False)"
      ]
     },
     "execution_count": 553,
     "metadata": {},
     "output_type": "execute_result"
    }
   ],
   "source": [
    "# Create and train the Linear Regression  Model\n",
    "lr = LinearRegression()\n",
    "# Train the model\n",
    "lr.fit(x_train, y_train)"
   ]
  },
  {
   "cell_type": "code",
   "execution_count": 554,
   "metadata": {},
   "outputs": [
    {
     "name": "stdout",
     "output_type": "stream",
     "text": [
      "lr confidence:  0.15403076392130044\n"
     ]
    }
   ],
   "source": [
    "# Testing Model: Score returns the coefficient of determination R^2 of the prediction. \n",
    "# The best possible score is 1.0\n",
    "lr_confidence = lr.score(x_test, y_test)\n",
    "print(\"lr confidence: \", lr_confidence)\n"
   ]
  },
  {
   "cell_type": "code",
   "execution_count": 555,
   "metadata": {},
   "outputs": [
    {
     "name": "stdout",
     "output_type": "stream",
     "text": [
      "[[21.68000031]\n",
      " [21.64999962]\n",
      " [21.01000023]\n",
      " [20.76000023]\n",
      " [20.61000061]]\n"
     ]
    }
   ],
   "source": [
    "# Set x_forecast equal to the last 30 rows of the original data set from Adj. Close column\n",
    "x_forecast = np.array(xx.drop(['Dollar'],1))[-forecast_out:]\n",
    "print(x_forecast)"
   ]
  },
  {
   "cell_type": "code",
   "execution_count": 556,
   "metadata": {},
   "outputs": [
    {
     "name": "stdout",
     "output_type": "stream",
     "text": [
      "[62.77472307]\n"
     ]
    }
   ],
   "source": [
    "# Print linear regression model predictions for the next 'n' days\n",
    "lr_prediction = lr.predict(x_forecast)\n",
    "print(lr_prediction[-1])"
   ]
  },
  {
   "cell_type": "markdown",
   "metadata": {},
   "source": [
    "## Итоговые результаты\n"
   ]
  },
  {
   "cell_type": "markdown",
   "metadata": {},
   "source": [
    "Мы проанализировали рынок акций и познакомились с разными моделями предсказания курсов акций и валют. На основе случайных процессов нам удалось создать модель, которая выгружает данные с биржи и на основе формулы Ито строит прогнозы. По машинному обчению мы создали 2 разные модели линейной регрессии для акций и доллара. Теперь посмотрим какие результаты выдали эти модели и сравним их с реальными данными. В качестве промежутка времени мы взяли выгрузку данных до 10 января 2020 года и прогноз на 15 января 2020 года.\n",
    "Отобразим данные в таблице\n"
   ]
  },
  {
   "cell_type": "markdown",
   "metadata": {},
   "source": [
    "|Name             |Stohastic pr   | ML program    | Real value\n",
    "   -------------  |-------------  | ------------- | ------------- \n",
    "      IRAO.ME     |5,74           | 5,762         |5,8\n",
    "      USD/RUB     |61,33          | 62,7          |61,41"
   ]
  },
  {
   "cell_type": "markdown",
   "metadata": {},
   "source": [
    "Как видим наши модели дают достаточно хороший прогноз на рынке акций и валют на некризисном рынке, но на кризисном наши модели также дают результат, который не имеет сильной погрешности."
   ]
  },
  {
   "cell_type": "markdown",
   "metadata": {},
   "source": [
    "## Вывод"
   ]
  },
  {
   "cell_type": "markdown",
   "metadata": {},
   "source": [
    "В работе были рассмотрены подходы к моделированию прогнозирования акций и валюты и были рассмотрены примеры, которые помогли нам понять насколько наши модели точные.\n",
    "\n",
    "Были получены модели, которые отражают положение дел кризисных и некризисных биржевых рынках."
   ]
  },
  {
   "cell_type": "markdown",
   "metadata": {},
   "source": [
    "### Литература"
   ]
  },
  {
   "cell_type": "markdown",
   "metadata": {},
   "source": [
    "Ширяев А.Н. $\\textbf{\"Основы финансовой математики\"}$\n",
    "\n",
    "Шелдон Натенберг $\\textbf{\"Опционы\"}$\n",
    "\n",
    "Брейли Майерс $\\textbf{\"Принципы корпоративных финансов\"}$\n",
    "\n",
    "Гасников А.В $\\textbf{\"Лекции по случайным процессам\"}$\n",
    "\n",
    "Асват Дамодаран $\\textbf{\"Инвестиционная оценка\"}$"
   ]
  }
 ],
 "metadata": {
  "kernelspec": {
   "display_name": "Python 3",
   "language": "python",
   "name": "python3"
  },
  "language_info": {
   "codemirror_mode": {
    "name": "ipython",
    "version": 3
   },
   "file_extension": ".py",
   "mimetype": "text/x-python",
   "name": "python",
   "nbconvert_exporter": "python",
   "pygments_lexer": "ipython3",
   "version": "3.7.3"
  }
 },
 "nbformat": 4,
 "nbformat_minor": 2
}
